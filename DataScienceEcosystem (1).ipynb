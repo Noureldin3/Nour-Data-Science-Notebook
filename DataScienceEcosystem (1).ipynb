{
 "cells": [
  {
   "cell_type": "markdown",
   "id": "439e8dec-87d0-4b56-83f1-0ebe6c16e682",
   "metadata": {},
   "source": [
    "# Data Science Tools and Ecosystem"
   ]
  },
  {
   "cell_type": "markdown",
   "id": "8aec4aca-7350-4ce9-aa04-6513e5bdeffa",
   "metadata": {},
   "source": [
    "## In this notebook, Data Science Tools and Ecosystem are summarized.\n",
    "\n",
    "\n",
    "\n",
    "\n"
   ]
  },
  {
   "cell_type": "markdown",
   "id": "0e52ffe9-f544-43b7-887c-ac6b9b850026",
   "metadata": {},
   "source": [
    "**Objectives:**"
   ]
  },
  {
   "cell_type": "markdown",
   "id": "f5ddd445-8185-4775-b8bb-c06a051486d6",
   "metadata": {},
   "source": [
    "- List popular languages for Data Science  \n",
    "- List commonly used libraries used by Data Scientists  \n",
    "- Create tables using Markdown  \n",
    "- Share Jupyter Notebook with others  \n",
    "- Explain Data Science tools"
   ]
  },
  {
   "cell_type": "markdown",
   "id": "ab31c668-817d-49c3-8200-63161d698125",
   "metadata": {},
   "source": [
    "### Some of the popular languages that Data Scientists use are:\n"
   ]
  },
  {
   "cell_type": "code",
   "execution_count": 6,
   "id": "b5298f53-fea8-4443-b146-8a7c5398593b",
   "metadata": {},
   "outputs": [
    {
     "name": "stdout",
     "output_type": "stream",
     "text": [
      "1. Python\n",
      "2. R\n",
      "3. SQL\n",
      "4. Julia\n",
      "5. Scala\n"
     ]
    }
   ],
   "source": [
    "languages = [\"Python\", \"R\", \"SQL\", \"Julia\", \"Scala\"]\n",
    "\n",
    "for i, lang in enumerate(languages, start=1):\n",
    "    print(f\"{i}. {lang}\")\n"
   ]
  },
  {
   "cell_type": "markdown",
   "id": "6fc3af4f-2e8b-4269-82c8-903738f761c9",
   "metadata": {},
   "source": [
    "### Some of the commonly used libraries used by Data Scientists include:"
   ]
  },
  {
   "cell_type": "code",
   "execution_count": 7,
   "id": "9e2a1072-e86e-47f2-93a5-853b3b86c90a",
   "metadata": {},
   "outputs": [
    {
     "name": "stdout",
     "output_type": "stream",
     "text": [
      "1. Pandas\n",
      "2. Numpy\n",
      "3. Matplotlib\n",
      "4. Seaborn\n",
      "5. Scikit-learn\n"
     ]
    }
   ],
   "source": [
    "libraries = [\"Pandas\", \"Numpy\", \"Matplotlib\", \"Seaborn\", \"Scikit-learn\"]\n",
    "\n",
    "for i, lib in enumerate(libraries, start=1):\n",
    "    print(f\"{i}. {lib}\")\n"
   ]
  },
  {
   "cell_type": "markdown",
   "id": "5762cf06-bfc4-4668-ac7f-bd689d71b09c",
   "metadata": {},
   "source": [
    "## Data Science Tools"
   ]
  },
  {
   "cell_type": "markdown",
   "id": "4f391135-f97b-4848-842a-9f9391e7a016",
   "metadata": {},
   "source": [
    "| Data Science Tools |\n",
    "|--------------------|\n",
    "| Jupyter Notebook   |\n",
    "| RStudio            |\n",
    "| Apache Zeppelin    |"
   ]
  },
  {
   "cell_type": "markdown",
   "id": "9ea454ef-f84e-4251-ae03-eee6a64d74d2",
   "metadata": {},
   "source": [
    "### Below are a few examples of evaluating arithmetic expressions in Python"
   ]
  },
  {
   "cell_type": "code",
   "execution_count": 10,
   "id": "3d701448-789e-44ed-a5bc-648a7295769f",
   "metadata": {},
   "outputs": [
    {
     "data": {
      "text/plain": [
       "17"
      ]
     },
     "execution_count": 10,
     "metadata": {},
     "output_type": "execute_result"
    }
   ],
   "source": [
    "# This a simple arithmetic expression to mutiply then add integers\n",
    "(3*4)+5"
   ]
  },
  {
   "cell_type": "code",
   "execution_count": 11,
   "id": "c905ff88-f168-409c-934b-dbc27e27b251",
   "metadata": {},
   "outputs": [
    {
     "name": "stdout",
     "output_type": "stream",
     "text": [
      "200 minitues =  3.3333333333333335 hours\n"
     ]
    }
   ],
   "source": [
    "# his will convert 200 minutes to hours by diving by 60\n",
    "convert= 200/60\n",
    "print(\"200 minitues = \", convert ,\"hours\") "
   ]
  },
  {
   "cell_type": "markdown",
   "id": "7adfe371-9434-4d65-a01e-edeb83b8a780",
   "metadata": {},
   "source": [
    "## Author  \n",
    "\n",
    "Nour Eldin Hamed\n"
   ]
  },
  {
   "cell_type": "code",
   "execution_count": null,
   "id": "353bfbdd-63a2-4972-a307-6205317a4fd5",
   "metadata": {},
   "outputs": [],
   "source": []
  }
 ],
 "metadata": {
  "kernelspec": {
   "display_name": "Python 3 (ipykernel)",
   "language": "python",
   "name": "python3"
  },
  "language_info": {
   "codemirror_mode": {
    "name": "ipython",
    "version": 3
   },
   "file_extension": ".py",
   "mimetype": "text/x-python",
   "name": "python",
   "nbconvert_exporter": "python",
   "pygments_lexer": "ipython3",
   "version": "3.13.5"
  }
 },
 "nbformat": 4,
 "nbformat_minor": 5
}
